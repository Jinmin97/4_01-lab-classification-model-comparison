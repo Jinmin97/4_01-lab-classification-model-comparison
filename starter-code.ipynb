{
 "cells": [
  {
   "cell_type": "markdown",
   "metadata": {},
   "source": [
    "## Week 4, Lab 1: Predicting Left-Handedness from Psychological Factors\n",
    "> Author: Matt Brems\n",
    "\n",
    "We can sketch out the data science process as follows:\n",
    "1. Define the problem.\n",
    "2. Obtain the data.\n",
    "3. Explore the data.\n",
    "4. Model the data.\n",
    "5. Evaluate the model.\n",
    "6. Answer the problem.\n",
    "\n",
    "We'll walk through a full data science problem in this lab. "
   ]
  },
  {
   "cell_type": "code",
   "execution_count": 19,
   "metadata": {},
   "outputs": [],
   "source": [
    "# Import libraries \n",
    "import pandas as pd\n",
    "import numpy as np\n",
    "from sklearn.neighbors import KNeighborsClassifier\n",
    "from sklearn.linear_model import LogisticRegression\n",
    "from sklearn.model_selection import train_test_split, cross_val_score, GridSearchCV"
   ]
  },
  {
   "cell_type": "markdown",
   "metadata": {},
   "source": [
    "---\n",
    "## Step 1: Define The Problem.\n",
    "\n",
    "You're currently a data scientist working at a university. A professor of psychology is attempting to study the relationship between personalities and left-handedness. They have tasked you with gathering evidence so that they may publish.\n",
    "\n",
    "Specifically, the professor says \"I need to prove that left-handedness is caused by some personality trait. Go find that personality trait and the data to back it up.\"\n",
    "\n",
    "As a data scientist, you know that any real data science problem must be **specific** and **conclusively answerable**. For example:\n",
    "- Bad data science problem: \"What is the link between obesity and blood pressure?\"\n",
    "    - This is vague and is not conclusively answerable. That is, two people might look at the conclusion and one may say \"Sure, the problem has been answered!\" and the other may say \"The problem has not yet been answered.\"\n",
    "- Good data science problem: \"Does an association exist between obesity and blood pressure?\"\n",
    "    - This is more specific and is conclusively answerable. The problem specifically is asking for a \"Yes\" or \"No\" answer. Based on that, two independent people should both be able to say either \"Yes, the problem has been answered\" or \"No, the problem has not yet been answered.\"\n",
    "- Excellent data science problem: \"As obesity increases, how does blood pressure change?\"\n",
    "    - This is very specific and is conclusively answerable. The problem specifically seeks to understand the effect of one variable on the other.\n",
    "\n",
    "### 1. In the context of the left-handedness and personality example, what are three specific and conclusively answerable problems that you could answer using data science? \n",
    "\n",
    "> You might find it helpful to check out the codebook in the repo for some inspiration."
   ]
  },
  {
   "cell_type": "markdown",
   "metadata": {},
   "source": [
    "Answer: \n",
    "1. Are left-handed people more likely to play video games compared to right-handed people?\n",
    "2. Are left-handed people more likely to like horoscope compared to right-handed people? \n",
    "3. Are left-handed people more likely to dance when they are alone compared to right-handed people?"
   ]
  },
  {
   "cell_type": "markdown",
   "metadata": {},
   "source": [
    "---\n",
    "## Step 2: Obtain the data.\n",
    "\n",
    "### 2. Read in the file titled \"data.csv.\"\n",
    "> Hint: Despite being saved as a .csv file, you won't be able to simply `pd.read_csv()` this data!"
   ]
  },
  {
   "cell_type": "code",
   "execution_count": 2,
   "metadata": {},
   "outputs": [
    {
     "data": {
      "text/html": [
       "<div>\n",
       "<style scoped>\n",
       "    .dataframe tbody tr th:only-of-type {\n",
       "        vertical-align: middle;\n",
       "    }\n",
       "\n",
       "    .dataframe tbody tr th {\n",
       "        vertical-align: top;\n",
       "    }\n",
       "\n",
       "    .dataframe thead th {\n",
       "        text-align: right;\n",
       "    }\n",
       "</style>\n",
       "<table border=\"1\" class=\"dataframe\">\n",
       "  <thead>\n",
       "    <tr style=\"text-align: right;\">\n",
       "      <th></th>\n",
       "      <th>Q1</th>\n",
       "      <th>Q2</th>\n",
       "      <th>Q3</th>\n",
       "      <th>Q4</th>\n",
       "      <th>Q5</th>\n",
       "      <th>Q6</th>\n",
       "      <th>Q7</th>\n",
       "      <th>Q8</th>\n",
       "      <th>Q9</th>\n",
       "      <th>Q10</th>\n",
       "      <th>...</th>\n",
       "      <th>country</th>\n",
       "      <th>fromgoogle</th>\n",
       "      <th>engnat</th>\n",
       "      <th>age</th>\n",
       "      <th>education</th>\n",
       "      <th>gender</th>\n",
       "      <th>orientation</th>\n",
       "      <th>race</th>\n",
       "      <th>religion</th>\n",
       "      <th>hand</th>\n",
       "    </tr>\n",
       "  </thead>\n",
       "  <tbody>\n",
       "    <tr>\n",
       "      <th>0</th>\n",
       "      <td>4</td>\n",
       "      <td>1</td>\n",
       "      <td>5</td>\n",
       "      <td>1</td>\n",
       "      <td>5</td>\n",
       "      <td>1</td>\n",
       "      <td>5</td>\n",
       "      <td>1</td>\n",
       "      <td>4</td>\n",
       "      <td>1</td>\n",
       "      <td>...</td>\n",
       "      <td>US</td>\n",
       "      <td>2</td>\n",
       "      <td>1</td>\n",
       "      <td>22</td>\n",
       "      <td>3</td>\n",
       "      <td>1</td>\n",
       "      <td>1</td>\n",
       "      <td>3</td>\n",
       "      <td>2</td>\n",
       "      <td>3</td>\n",
       "    </tr>\n",
       "    <tr>\n",
       "      <th>1</th>\n",
       "      <td>1</td>\n",
       "      <td>5</td>\n",
       "      <td>1</td>\n",
       "      <td>4</td>\n",
       "      <td>2</td>\n",
       "      <td>5</td>\n",
       "      <td>5</td>\n",
       "      <td>4</td>\n",
       "      <td>1</td>\n",
       "      <td>5</td>\n",
       "      <td>...</td>\n",
       "      <td>CA</td>\n",
       "      <td>2</td>\n",
       "      <td>1</td>\n",
       "      <td>14</td>\n",
       "      <td>1</td>\n",
       "      <td>2</td>\n",
       "      <td>2</td>\n",
       "      <td>6</td>\n",
       "      <td>1</td>\n",
       "      <td>1</td>\n",
       "    </tr>\n",
       "    <tr>\n",
       "      <th>2</th>\n",
       "      <td>1</td>\n",
       "      <td>2</td>\n",
       "      <td>1</td>\n",
       "      <td>1</td>\n",
       "      <td>5</td>\n",
       "      <td>4</td>\n",
       "      <td>3</td>\n",
       "      <td>2</td>\n",
       "      <td>1</td>\n",
       "      <td>4</td>\n",
       "      <td>...</td>\n",
       "      <td>NL</td>\n",
       "      <td>2</td>\n",
       "      <td>2</td>\n",
       "      <td>30</td>\n",
       "      <td>4</td>\n",
       "      <td>1</td>\n",
       "      <td>1</td>\n",
       "      <td>1</td>\n",
       "      <td>1</td>\n",
       "      <td>2</td>\n",
       "    </tr>\n",
       "    <tr>\n",
       "      <th>3</th>\n",
       "      <td>1</td>\n",
       "      <td>4</td>\n",
       "      <td>1</td>\n",
       "      <td>5</td>\n",
       "      <td>1</td>\n",
       "      <td>4</td>\n",
       "      <td>5</td>\n",
       "      <td>4</td>\n",
       "      <td>3</td>\n",
       "      <td>5</td>\n",
       "      <td>...</td>\n",
       "      <td>US</td>\n",
       "      <td>2</td>\n",
       "      <td>1</td>\n",
       "      <td>18</td>\n",
       "      <td>2</td>\n",
       "      <td>2</td>\n",
       "      <td>5</td>\n",
       "      <td>3</td>\n",
       "      <td>2</td>\n",
       "      <td>2</td>\n",
       "    </tr>\n",
       "    <tr>\n",
       "      <th>4</th>\n",
       "      <td>5</td>\n",
       "      <td>1</td>\n",
       "      <td>5</td>\n",
       "      <td>1</td>\n",
       "      <td>5</td>\n",
       "      <td>1</td>\n",
       "      <td>5</td>\n",
       "      <td>1</td>\n",
       "      <td>3</td>\n",
       "      <td>1</td>\n",
       "      <td>...</td>\n",
       "      <td>US</td>\n",
       "      <td>2</td>\n",
       "      <td>1</td>\n",
       "      <td>22</td>\n",
       "      <td>3</td>\n",
       "      <td>1</td>\n",
       "      <td>1</td>\n",
       "      <td>3</td>\n",
       "      <td>2</td>\n",
       "      <td>3</td>\n",
       "    </tr>\n",
       "  </tbody>\n",
       "</table>\n",
       "<p>5 rows × 56 columns</p>\n",
       "</div>"
      ],
      "text/plain": [
       "   Q1  Q2  Q3  Q4  Q5  Q6  Q7  Q8  Q9  Q10  ...  country  fromgoogle  engnat  \\\n",
       "0   4   1   5   1   5   1   5   1   4    1  ...       US           2       1   \n",
       "1   1   5   1   4   2   5   5   4   1    5  ...       CA           2       1   \n",
       "2   1   2   1   1   5   4   3   2   1    4  ...       NL           2       2   \n",
       "3   1   4   1   5   1   4   5   4   3    5  ...       US           2       1   \n",
       "4   5   1   5   1   5   1   5   1   3    1  ...       US           2       1   \n",
       "\n",
       "   age  education  gender  orientation  race  religion  hand  \n",
       "0   22          3       1            1     3         2     3  \n",
       "1   14          1       2            2     6         1     1  \n",
       "2   30          4       1            1     1         1     2  \n",
       "3   18          2       2            5     3         2     2  \n",
       "4   22          3       1            1     3         2     3  \n",
       "\n",
       "[5 rows x 56 columns]"
      ]
     },
     "execution_count": 2,
     "metadata": {},
     "output_type": "execute_result"
    }
   ],
   "source": [
    "df = pd.read_csv('data.csv', sep = '\\t')\n",
    "df.head()"
   ]
  },
  {
   "cell_type": "markdown",
   "metadata": {},
   "source": [
    "### 3. Suppose that, instead of us giving you this data in a file, you were actually conducting a survey to gather this data yourself. From an ethics/privacy point of view, what are three things you might consider when attempting to gather this data?\n",
    "> When working with sensitive data like sexual orientation or gender identity, we need to consider how this data could be used if it fell into the wrong hands!"
   ]
  },
  {
   "cell_type": "markdown",
   "metadata": {},
   "source": [
    "Answer:\n",
    "1. Use ambigious column headers and store the data dictionary somewhere else\n",
    "2. Ensure that sensitive data are masked (E.g. Name -> ID0001,ID0002) \n",
    "3. Group the data if possible (E.g. Age: <18 y/o, 18-25 y/o etc)"
   ]
  },
  {
   "cell_type": "markdown",
   "metadata": {},
   "source": [
    "---\n",
    "## Step 3: Explore the data.\n",
    "\n",
    "### 4. Conduct exploratory data analysis on this dataset.\n",
    "> If you haven't already, be sure to check out the codebook in the repo, as that will help in your EDA process."
   ]
  },
  {
   "cell_type": "code",
   "execution_count": 3,
   "metadata": {},
   "outputs": [
    {
     "name": "stdout",
     "output_type": "stream",
     "text": [
      "<class 'pandas.core.frame.DataFrame'>\n",
      "RangeIndex: 4184 entries, 0 to 4183\n",
      "Data columns (total 56 columns):\n",
      " #   Column       Non-Null Count  Dtype \n",
      "---  ------       --------------  ----- \n",
      " 0   Q1           4184 non-null   int64 \n",
      " 1   Q2           4184 non-null   int64 \n",
      " 2   Q3           4184 non-null   int64 \n",
      " 3   Q4           4184 non-null   int64 \n",
      " 4   Q5           4184 non-null   int64 \n",
      " 5   Q6           4184 non-null   int64 \n",
      " 6   Q7           4184 non-null   int64 \n",
      " 7   Q8           4184 non-null   int64 \n",
      " 8   Q9           4184 non-null   int64 \n",
      " 9   Q10          4184 non-null   int64 \n",
      " 10  Q11          4184 non-null   int64 \n",
      " 11  Q12          4184 non-null   int64 \n",
      " 12  Q13          4184 non-null   int64 \n",
      " 13  Q14          4184 non-null   int64 \n",
      " 14  Q15          4184 non-null   int64 \n",
      " 15  Q16          4184 non-null   int64 \n",
      " 16  Q17          4184 non-null   int64 \n",
      " 17  Q18          4184 non-null   int64 \n",
      " 18  Q19          4184 non-null   int64 \n",
      " 19  Q20          4184 non-null   int64 \n",
      " 20  Q21          4184 non-null   int64 \n",
      " 21  Q22          4184 non-null   int64 \n",
      " 22  Q23          4184 non-null   int64 \n",
      " 23  Q24          4184 non-null   int64 \n",
      " 24  Q25          4184 non-null   int64 \n",
      " 25  Q26          4184 non-null   int64 \n",
      " 26  Q27          4184 non-null   int64 \n",
      " 27  Q28          4184 non-null   int64 \n",
      " 28  Q29          4184 non-null   int64 \n",
      " 29  Q30          4184 non-null   int64 \n",
      " 30  Q31          4184 non-null   int64 \n",
      " 31  Q32          4184 non-null   int64 \n",
      " 32  Q33          4184 non-null   int64 \n",
      " 33  Q34          4184 non-null   int64 \n",
      " 34  Q35          4184 non-null   int64 \n",
      " 35  Q36          4184 non-null   int64 \n",
      " 36  Q37          4184 non-null   int64 \n",
      " 37  Q38          4184 non-null   int64 \n",
      " 38  Q39          4184 non-null   int64 \n",
      " 39  Q40          4184 non-null   int64 \n",
      " 40  Q41          4184 non-null   int64 \n",
      " 41  Q42          4184 non-null   int64 \n",
      " 42  Q43          4184 non-null   int64 \n",
      " 43  Q44          4184 non-null   int64 \n",
      " 44  introelapse  4184 non-null   int64 \n",
      " 45  testelapse   4184 non-null   int64 \n",
      " 46  country      4184 non-null   object\n",
      " 47  fromgoogle   4184 non-null   int64 \n",
      " 48  engnat       4184 non-null   int64 \n",
      " 49  age          4184 non-null   int64 \n",
      " 50  education    4184 non-null   int64 \n",
      " 51  gender       4184 non-null   int64 \n",
      " 52  orientation  4184 non-null   int64 \n",
      " 53  race         4184 non-null   int64 \n",
      " 54  religion     4184 non-null   int64 \n",
      " 55  hand         4184 non-null   int64 \n",
      "dtypes: int64(55), object(1)\n",
      "memory usage: 1.8+ MB\n"
     ]
    }
   ],
   "source": [
    "df.info()"
   ]
  },
  {
   "cell_type": "code",
   "execution_count": 4,
   "metadata": {},
   "outputs": [
    {
     "data": {
      "text/html": [
       "<div>\n",
       "<style scoped>\n",
       "    .dataframe tbody tr th:only-of-type {\n",
       "        vertical-align: middle;\n",
       "    }\n",
       "\n",
       "    .dataframe tbody tr th {\n",
       "        vertical-align: top;\n",
       "    }\n",
       "\n",
       "    .dataframe thead th {\n",
       "        text-align: right;\n",
       "    }\n",
       "</style>\n",
       "<table border=\"1\" class=\"dataframe\">\n",
       "  <thead>\n",
       "    <tr style=\"text-align: right;\">\n",
       "      <th></th>\n",
       "      <th>count</th>\n",
       "      <th>mean</th>\n",
       "      <th>std</th>\n",
       "      <th>min</th>\n",
       "      <th>25%</th>\n",
       "      <th>50%</th>\n",
       "      <th>75%</th>\n",
       "      <th>max</th>\n",
       "    </tr>\n",
       "  </thead>\n",
       "  <tbody>\n",
       "    <tr>\n",
       "      <th>Q1</th>\n",
       "      <td>4184.0</td>\n",
       "      <td>1.962715</td>\n",
       "      <td>1.360291</td>\n",
       "      <td>0.0</td>\n",
       "      <td>1.0</td>\n",
       "      <td>1.0</td>\n",
       "      <td>3.00</td>\n",
       "      <td>5.0</td>\n",
       "    </tr>\n",
       "    <tr>\n",
       "      <th>Q2</th>\n",
       "      <td>4184.0</td>\n",
       "      <td>3.829589</td>\n",
       "      <td>1.551683</td>\n",
       "      <td>0.0</td>\n",
       "      <td>3.0</td>\n",
       "      <td>5.0</td>\n",
       "      <td>5.00</td>\n",
       "      <td>5.0</td>\n",
       "    </tr>\n",
       "    <tr>\n",
       "      <th>Q3</th>\n",
       "      <td>4184.0</td>\n",
       "      <td>2.846558</td>\n",
       "      <td>1.664804</td>\n",
       "      <td>0.0</td>\n",
       "      <td>1.0</td>\n",
       "      <td>3.0</td>\n",
       "      <td>5.00</td>\n",
       "      <td>5.0</td>\n",
       "    </tr>\n",
       "    <tr>\n",
       "      <th>Q4</th>\n",
       "      <td>4184.0</td>\n",
       "      <td>3.186902</td>\n",
       "      <td>1.476879</td>\n",
       "      <td>0.0</td>\n",
       "      <td>2.0</td>\n",
       "      <td>3.0</td>\n",
       "      <td>5.00</td>\n",
       "      <td>5.0</td>\n",
       "    </tr>\n",
       "    <tr>\n",
       "      <th>Q5</th>\n",
       "      <td>4184.0</td>\n",
       "      <td>2.865440</td>\n",
       "      <td>1.545798</td>\n",
       "      <td>0.0</td>\n",
       "      <td>1.0</td>\n",
       "      <td>3.0</td>\n",
       "      <td>4.00</td>\n",
       "      <td>5.0</td>\n",
       "    </tr>\n",
       "    <tr>\n",
       "      <th>Q6</th>\n",
       "      <td>4184.0</td>\n",
       "      <td>3.672084</td>\n",
       "      <td>1.342238</td>\n",
       "      <td>0.0</td>\n",
       "      <td>3.0</td>\n",
       "      <td>4.0</td>\n",
       "      <td>5.00</td>\n",
       "      <td>5.0</td>\n",
       "    </tr>\n",
       "    <tr>\n",
       "      <th>Q7</th>\n",
       "      <td>4184.0</td>\n",
       "      <td>3.216539</td>\n",
       "      <td>1.490733</td>\n",
       "      <td>0.0</td>\n",
       "      <td>2.0</td>\n",
       "      <td>3.0</td>\n",
       "      <td>5.00</td>\n",
       "      <td>5.0</td>\n",
       "    </tr>\n",
       "    <tr>\n",
       "      <th>Q8</th>\n",
       "      <td>4184.0</td>\n",
       "      <td>3.184512</td>\n",
       "      <td>1.387382</td>\n",
       "      <td>0.0</td>\n",
       "      <td>2.0</td>\n",
       "      <td>3.0</td>\n",
       "      <td>4.00</td>\n",
       "      <td>5.0</td>\n",
       "    </tr>\n",
       "    <tr>\n",
       "      <th>Q9</th>\n",
       "      <td>4184.0</td>\n",
       "      <td>2.761233</td>\n",
       "      <td>1.511805</td>\n",
       "      <td>0.0</td>\n",
       "      <td>1.0</td>\n",
       "      <td>3.0</td>\n",
       "      <td>4.00</td>\n",
       "      <td>5.0</td>\n",
       "    </tr>\n",
       "    <tr>\n",
       "      <th>Q10</th>\n",
       "      <td>4184.0</td>\n",
       "      <td>3.522945</td>\n",
       "      <td>1.242890</td>\n",
       "      <td>0.0</td>\n",
       "      <td>3.0</td>\n",
       "      <td>4.0</td>\n",
       "      <td>5.00</td>\n",
       "      <td>5.0</td>\n",
       "    </tr>\n",
       "    <tr>\n",
       "      <th>Q11</th>\n",
       "      <td>4184.0</td>\n",
       "      <td>2.748805</td>\n",
       "      <td>1.443078</td>\n",
       "      <td>0.0</td>\n",
       "      <td>1.0</td>\n",
       "      <td>3.0</td>\n",
       "      <td>4.00</td>\n",
       "      <td>5.0</td>\n",
       "    </tr>\n",
       "    <tr>\n",
       "      <th>Q12</th>\n",
       "      <td>4184.0</td>\n",
       "      <td>2.852772</td>\n",
       "      <td>1.556284</td>\n",
       "      <td>0.0</td>\n",
       "      <td>1.0</td>\n",
       "      <td>3.0</td>\n",
       "      <td>4.00</td>\n",
       "      <td>5.0</td>\n",
       "    </tr>\n",
       "    <tr>\n",
       "      <th>Q13</th>\n",
       "      <td>4184.0</td>\n",
       "      <td>2.657505</td>\n",
       "      <td>1.559575</td>\n",
       "      <td>0.0</td>\n",
       "      <td>1.0</td>\n",
       "      <td>3.0</td>\n",
       "      <td>4.00</td>\n",
       "      <td>5.0</td>\n",
       "    </tr>\n",
       "    <tr>\n",
       "      <th>Q14</th>\n",
       "      <td>4184.0</td>\n",
       "      <td>3.334130</td>\n",
       "      <td>1.522866</td>\n",
       "      <td>0.0</td>\n",
       "      <td>2.0</td>\n",
       "      <td>4.0</td>\n",
       "      <td>5.00</td>\n",
       "      <td>5.0</td>\n",
       "    </tr>\n",
       "    <tr>\n",
       "      <th>Q15</th>\n",
       "      <td>4184.0</td>\n",
       "      <td>3.168021</td>\n",
       "      <td>1.501683</td>\n",
       "      <td>0.0</td>\n",
       "      <td>2.0</td>\n",
       "      <td>3.0</td>\n",
       "      <td>5.00</td>\n",
       "      <td>5.0</td>\n",
       "    </tr>\n",
       "    <tr>\n",
       "      <th>Q16</th>\n",
       "      <td>4184.0</td>\n",
       "      <td>2.930210</td>\n",
       "      <td>1.575544</td>\n",
       "      <td>0.0</td>\n",
       "      <td>1.0</td>\n",
       "      <td>3.0</td>\n",
       "      <td>4.00</td>\n",
       "      <td>5.0</td>\n",
       "    </tr>\n",
       "    <tr>\n",
       "      <th>Q17</th>\n",
       "      <td>4184.0</td>\n",
       "      <td>2.564771</td>\n",
       "      <td>1.619010</td>\n",
       "      <td>0.0</td>\n",
       "      <td>1.0</td>\n",
       "      <td>2.0</td>\n",
       "      <td>4.00</td>\n",
       "      <td>5.0</td>\n",
       "    </tr>\n",
       "    <tr>\n",
       "      <th>Q18</th>\n",
       "      <td>4184.0</td>\n",
       "      <td>3.424952</td>\n",
       "      <td>1.413236</td>\n",
       "      <td>0.0</td>\n",
       "      <td>2.0</td>\n",
       "      <td>4.0</td>\n",
       "      <td>5.00</td>\n",
       "      <td>5.0</td>\n",
       "    </tr>\n",
       "    <tr>\n",
       "      <th>Q19</th>\n",
       "      <td>4184.0</td>\n",
       "      <td>2.928537</td>\n",
       "      <td>1.493122</td>\n",
       "      <td>0.0</td>\n",
       "      <td>2.0</td>\n",
       "      <td>3.0</td>\n",
       "      <td>4.00</td>\n",
       "      <td>5.0</td>\n",
       "    </tr>\n",
       "    <tr>\n",
       "      <th>Q20</th>\n",
       "      <td>4184.0</td>\n",
       "      <td>3.639818</td>\n",
       "      <td>1.414569</td>\n",
       "      <td>0.0</td>\n",
       "      <td>3.0</td>\n",
       "      <td>4.0</td>\n",
       "      <td>5.00</td>\n",
       "      <td>5.0</td>\n",
       "    </tr>\n",
       "    <tr>\n",
       "      <th>Q21</th>\n",
       "      <td>4184.0</td>\n",
       "      <td>2.867591</td>\n",
       "      <td>1.360858</td>\n",
       "      <td>0.0</td>\n",
       "      <td>2.0</td>\n",
       "      <td>3.0</td>\n",
       "      <td>4.00</td>\n",
       "      <td>5.0</td>\n",
       "    </tr>\n",
       "    <tr>\n",
       "      <th>Q22</th>\n",
       "      <td>4184.0</td>\n",
       "      <td>3.595124</td>\n",
       "      <td>1.354475</td>\n",
       "      <td>0.0</td>\n",
       "      <td>3.0</td>\n",
       "      <td>4.0</td>\n",
       "      <td>5.00</td>\n",
       "      <td>5.0</td>\n",
       "    </tr>\n",
       "    <tr>\n",
       "      <th>Q23</th>\n",
       "      <td>4184.0</td>\n",
       "      <td>3.861138</td>\n",
       "      <td>1.291425</td>\n",
       "      <td>0.0</td>\n",
       "      <td>3.0</td>\n",
       "      <td>4.0</td>\n",
       "      <td>5.00</td>\n",
       "      <td>5.0</td>\n",
       "    </tr>\n",
       "    <tr>\n",
       "      <th>Q24</th>\n",
       "      <td>4184.0</td>\n",
       "      <td>3.337237</td>\n",
       "      <td>1.426095</td>\n",
       "      <td>0.0</td>\n",
       "      <td>2.0</td>\n",
       "      <td>3.0</td>\n",
       "      <td>5.00</td>\n",
       "      <td>5.0</td>\n",
       "    </tr>\n",
       "    <tr>\n",
       "      <th>Q25</th>\n",
       "      <td>4184.0</td>\n",
       "      <td>1.999761</td>\n",
       "      <td>1.290747</td>\n",
       "      <td>0.0</td>\n",
       "      <td>1.0</td>\n",
       "      <td>1.0</td>\n",
       "      <td>3.00</td>\n",
       "      <td>5.0</td>\n",
       "    </tr>\n",
       "    <tr>\n",
       "      <th>Q26</th>\n",
       "      <td>4184.0</td>\n",
       "      <td>3.001434</td>\n",
       "      <td>1.480610</td>\n",
       "      <td>0.0</td>\n",
       "      <td>2.0</td>\n",
       "      <td>3.0</td>\n",
       "      <td>4.00</td>\n",
       "      <td>5.0</td>\n",
       "    </tr>\n",
       "    <tr>\n",
       "      <th>Q27</th>\n",
       "      <td>4184.0</td>\n",
       "      <td>2.730641</td>\n",
       "      <td>1.485883</td>\n",
       "      <td>0.0</td>\n",
       "      <td>1.0</td>\n",
       "      <td>3.0</td>\n",
       "      <td>4.00</td>\n",
       "      <td>5.0</td>\n",
       "    </tr>\n",
       "    <tr>\n",
       "      <th>Q28</th>\n",
       "      <td>4184.0</td>\n",
       "      <td>2.624044</td>\n",
       "      <td>1.481709</td>\n",
       "      <td>0.0</td>\n",
       "      <td>1.0</td>\n",
       "      <td>3.0</td>\n",
       "      <td>4.00</td>\n",
       "      <td>5.0</td>\n",
       "    </tr>\n",
       "    <tr>\n",
       "      <th>Q29</th>\n",
       "      <td>4184.0</td>\n",
       "      <td>2.543738</td>\n",
       "      <td>1.611428</td>\n",
       "      <td>0.0</td>\n",
       "      <td>1.0</td>\n",
       "      <td>2.0</td>\n",
       "      <td>4.00</td>\n",
       "      <td>5.0</td>\n",
       "    </tr>\n",
       "    <tr>\n",
       "      <th>Q30</th>\n",
       "      <td>4184.0</td>\n",
       "      <td>2.894359</td>\n",
       "      <td>1.477968</td>\n",
       "      <td>0.0</td>\n",
       "      <td>1.0</td>\n",
       "      <td>3.0</td>\n",
       "      <td>4.00</td>\n",
       "      <td>5.0</td>\n",
       "    </tr>\n",
       "    <tr>\n",
       "      <th>Q31</th>\n",
       "      <td>4184.0</td>\n",
       "      <td>3.002151</td>\n",
       "      <td>1.420032</td>\n",
       "      <td>0.0</td>\n",
       "      <td>2.0</td>\n",
       "      <td>3.0</td>\n",
       "      <td>4.00</td>\n",
       "      <td>5.0</td>\n",
       "    </tr>\n",
       "    <tr>\n",
       "      <th>Q32</th>\n",
       "      <td>4184.0</td>\n",
       "      <td>2.869503</td>\n",
       "      <td>1.659141</td>\n",
       "      <td>0.0</td>\n",
       "      <td>1.0</td>\n",
       "      <td>3.0</td>\n",
       "      <td>5.00</td>\n",
       "      <td>5.0</td>\n",
       "    </tr>\n",
       "    <tr>\n",
       "      <th>Q33</th>\n",
       "      <td>4184.0</td>\n",
       "      <td>2.741874</td>\n",
       "      <td>1.405670</td>\n",
       "      <td>0.0</td>\n",
       "      <td>1.0</td>\n",
       "      <td>3.0</td>\n",
       "      <td>4.00</td>\n",
       "      <td>5.0</td>\n",
       "    </tr>\n",
       "    <tr>\n",
       "      <th>Q34</th>\n",
       "      <td>4184.0</td>\n",
       "      <td>3.022228</td>\n",
       "      <td>1.562694</td>\n",
       "      <td>0.0</td>\n",
       "      <td>1.0</td>\n",
       "      <td>3.0</td>\n",
       "      <td>4.00</td>\n",
       "      <td>5.0</td>\n",
       "    </tr>\n",
       "    <tr>\n",
       "      <th>Q35</th>\n",
       "      <td>4184.0</td>\n",
       "      <td>3.074092</td>\n",
       "      <td>1.546400</td>\n",
       "      <td>0.0</td>\n",
       "      <td>1.0</td>\n",
       "      <td>3.0</td>\n",
       "      <td>5.00</td>\n",
       "      <td>5.0</td>\n",
       "    </tr>\n",
       "    <tr>\n",
       "      <th>Q36</th>\n",
       "      <td>4184.0</td>\n",
       "      <td>2.610660</td>\n",
       "      <td>1.409707</td>\n",
       "      <td>0.0</td>\n",
       "      <td>1.0</td>\n",
       "      <td>2.0</td>\n",
       "      <td>4.00</td>\n",
       "      <td>5.0</td>\n",
       "    </tr>\n",
       "    <tr>\n",
       "      <th>Q37</th>\n",
       "      <td>4184.0</td>\n",
       "      <td>3.465344</td>\n",
       "      <td>1.521460</td>\n",
       "      <td>0.0</td>\n",
       "      <td>2.0</td>\n",
       "      <td>4.0</td>\n",
       "      <td>5.00</td>\n",
       "      <td>5.0</td>\n",
       "    </tr>\n",
       "    <tr>\n",
       "      <th>Q38</th>\n",
       "      <td>4184.0</td>\n",
       "      <td>2.798757</td>\n",
       "      <td>1.413584</td>\n",
       "      <td>0.0</td>\n",
       "      <td>1.0</td>\n",
       "      <td>3.0</td>\n",
       "      <td>4.00</td>\n",
       "      <td>5.0</td>\n",
       "    </tr>\n",
       "    <tr>\n",
       "      <th>Q39</th>\n",
       "      <td>4184.0</td>\n",
       "      <td>2.569312</td>\n",
       "      <td>1.621772</td>\n",
       "      <td>0.0</td>\n",
       "      <td>1.0</td>\n",
       "      <td>2.0</td>\n",
       "      <td>4.00</td>\n",
       "      <td>5.0</td>\n",
       "    </tr>\n",
       "    <tr>\n",
       "      <th>Q40</th>\n",
       "      <td>4184.0</td>\n",
       "      <td>2.984226</td>\n",
       "      <td>1.483752</td>\n",
       "      <td>0.0</td>\n",
       "      <td>2.0</td>\n",
       "      <td>3.0</td>\n",
       "      <td>4.00</td>\n",
       "      <td>5.0</td>\n",
       "    </tr>\n",
       "    <tr>\n",
       "      <th>Q41</th>\n",
       "      <td>4184.0</td>\n",
       "      <td>3.385277</td>\n",
       "      <td>1.423055</td>\n",
       "      <td>0.0</td>\n",
       "      <td>2.0</td>\n",
       "      <td>4.0</td>\n",
       "      <td>5.00</td>\n",
       "      <td>5.0</td>\n",
       "    </tr>\n",
       "    <tr>\n",
       "      <th>Q42</th>\n",
       "      <td>4184.0</td>\n",
       "      <td>2.704828</td>\n",
       "      <td>1.544345</td>\n",
       "      <td>0.0</td>\n",
       "      <td>1.0</td>\n",
       "      <td>3.0</td>\n",
       "      <td>4.00</td>\n",
       "      <td>5.0</td>\n",
       "    </tr>\n",
       "    <tr>\n",
       "      <th>Q43</th>\n",
       "      <td>4184.0</td>\n",
       "      <td>2.676386</td>\n",
       "      <td>1.523097</td>\n",
       "      <td>0.0</td>\n",
       "      <td>1.0</td>\n",
       "      <td>3.0</td>\n",
       "      <td>4.00</td>\n",
       "      <td>5.0</td>\n",
       "    </tr>\n",
       "    <tr>\n",
       "      <th>Q44</th>\n",
       "      <td>4184.0</td>\n",
       "      <td>2.736616</td>\n",
       "      <td>1.471845</td>\n",
       "      <td>0.0</td>\n",
       "      <td>1.0</td>\n",
       "      <td>3.0</td>\n",
       "      <td>4.00</td>\n",
       "      <td>5.0</td>\n",
       "    </tr>\n",
       "    <tr>\n",
       "      <th>introelapse</th>\n",
       "      <td>4184.0</td>\n",
       "      <td>347.808556</td>\n",
       "      <td>5908.901681</td>\n",
       "      <td>1.0</td>\n",
       "      <td>6.0</td>\n",
       "      <td>12.0</td>\n",
       "      <td>35.00</td>\n",
       "      <td>252063.0</td>\n",
       "    </tr>\n",
       "    <tr>\n",
       "      <th>testelapse</th>\n",
       "      <td>4184.0</td>\n",
       "      <td>479.994503</td>\n",
       "      <td>3142.178542</td>\n",
       "      <td>7.0</td>\n",
       "      <td>186.0</td>\n",
       "      <td>242.0</td>\n",
       "      <td>324.25</td>\n",
       "      <td>119834.0</td>\n",
       "    </tr>\n",
       "    <tr>\n",
       "      <th>fromgoogle</th>\n",
       "      <td>4184.0</td>\n",
       "      <td>1.576243</td>\n",
       "      <td>0.494212</td>\n",
       "      <td>1.0</td>\n",
       "      <td>1.0</td>\n",
       "      <td>2.0</td>\n",
       "      <td>2.00</td>\n",
       "      <td>2.0</td>\n",
       "    </tr>\n",
       "    <tr>\n",
       "      <th>engnat</th>\n",
       "      <td>4184.0</td>\n",
       "      <td>1.239962</td>\n",
       "      <td>0.440882</td>\n",
       "      <td>0.0</td>\n",
       "      <td>1.0</td>\n",
       "      <td>1.0</td>\n",
       "      <td>1.00</td>\n",
       "      <td>2.0</td>\n",
       "    </tr>\n",
       "    <tr>\n",
       "      <th>age</th>\n",
       "      <td>4184.0</td>\n",
       "      <td>30.370698</td>\n",
       "      <td>367.201726</td>\n",
       "      <td>13.0</td>\n",
       "      <td>18.0</td>\n",
       "      <td>21.0</td>\n",
       "      <td>27.00</td>\n",
       "      <td>23763.0</td>\n",
       "    </tr>\n",
       "    <tr>\n",
       "      <th>education</th>\n",
       "      <td>4184.0</td>\n",
       "      <td>2.317878</td>\n",
       "      <td>0.874264</td>\n",
       "      <td>0.0</td>\n",
       "      <td>2.0</td>\n",
       "      <td>2.0</td>\n",
       "      <td>3.00</td>\n",
       "      <td>4.0</td>\n",
       "    </tr>\n",
       "    <tr>\n",
       "      <th>gender</th>\n",
       "      <td>4184.0</td>\n",
       "      <td>1.654398</td>\n",
       "      <td>0.640915</td>\n",
       "      <td>0.0</td>\n",
       "      <td>1.0</td>\n",
       "      <td>2.0</td>\n",
       "      <td>2.00</td>\n",
       "      <td>3.0</td>\n",
       "    </tr>\n",
       "    <tr>\n",
       "      <th>orientation</th>\n",
       "      <td>4184.0</td>\n",
       "      <td>1.833413</td>\n",
       "      <td>1.303454</td>\n",
       "      <td>0.0</td>\n",
       "      <td>1.0</td>\n",
       "      <td>1.0</td>\n",
       "      <td>2.00</td>\n",
       "      <td>5.0</td>\n",
       "    </tr>\n",
       "    <tr>\n",
       "      <th>race</th>\n",
       "      <td>4184.0</td>\n",
       "      <td>5.013623</td>\n",
       "      <td>1.970996</td>\n",
       "      <td>0.0</td>\n",
       "      <td>5.0</td>\n",
       "      <td>6.0</td>\n",
       "      <td>6.00</td>\n",
       "      <td>7.0</td>\n",
       "    </tr>\n",
       "    <tr>\n",
       "      <th>religion</th>\n",
       "      <td>4184.0</td>\n",
       "      <td>2.394359</td>\n",
       "      <td>2.184164</td>\n",
       "      <td>0.0</td>\n",
       "      <td>1.0</td>\n",
       "      <td>2.0</td>\n",
       "      <td>2.00</td>\n",
       "      <td>7.0</td>\n",
       "    </tr>\n",
       "    <tr>\n",
       "      <th>hand</th>\n",
       "      <td>4184.0</td>\n",
       "      <td>1.190966</td>\n",
       "      <td>0.495357</td>\n",
       "      <td>0.0</td>\n",
       "      <td>1.0</td>\n",
       "      <td>1.0</td>\n",
       "      <td>1.00</td>\n",
       "      <td>3.0</td>\n",
       "    </tr>\n",
       "  </tbody>\n",
       "</table>\n",
       "</div>"
      ],
      "text/plain": [
       "              count        mean          std   min    25%    50%     75%  \\\n",
       "Q1           4184.0    1.962715     1.360291   0.0    1.0    1.0    3.00   \n",
       "Q2           4184.0    3.829589     1.551683   0.0    3.0    5.0    5.00   \n",
       "Q3           4184.0    2.846558     1.664804   0.0    1.0    3.0    5.00   \n",
       "Q4           4184.0    3.186902     1.476879   0.0    2.0    3.0    5.00   \n",
       "Q5           4184.0    2.865440     1.545798   0.0    1.0    3.0    4.00   \n",
       "Q6           4184.0    3.672084     1.342238   0.0    3.0    4.0    5.00   \n",
       "Q7           4184.0    3.216539     1.490733   0.0    2.0    3.0    5.00   \n",
       "Q8           4184.0    3.184512     1.387382   0.0    2.0    3.0    4.00   \n",
       "Q9           4184.0    2.761233     1.511805   0.0    1.0    3.0    4.00   \n",
       "Q10          4184.0    3.522945     1.242890   0.0    3.0    4.0    5.00   \n",
       "Q11          4184.0    2.748805     1.443078   0.0    1.0    3.0    4.00   \n",
       "Q12          4184.0    2.852772     1.556284   0.0    1.0    3.0    4.00   \n",
       "Q13          4184.0    2.657505     1.559575   0.0    1.0    3.0    4.00   \n",
       "Q14          4184.0    3.334130     1.522866   0.0    2.0    4.0    5.00   \n",
       "Q15          4184.0    3.168021     1.501683   0.0    2.0    3.0    5.00   \n",
       "Q16          4184.0    2.930210     1.575544   0.0    1.0    3.0    4.00   \n",
       "Q17          4184.0    2.564771     1.619010   0.0    1.0    2.0    4.00   \n",
       "Q18          4184.0    3.424952     1.413236   0.0    2.0    4.0    5.00   \n",
       "Q19          4184.0    2.928537     1.493122   0.0    2.0    3.0    4.00   \n",
       "Q20          4184.0    3.639818     1.414569   0.0    3.0    4.0    5.00   \n",
       "Q21          4184.0    2.867591     1.360858   0.0    2.0    3.0    4.00   \n",
       "Q22          4184.0    3.595124     1.354475   0.0    3.0    4.0    5.00   \n",
       "Q23          4184.0    3.861138     1.291425   0.0    3.0    4.0    5.00   \n",
       "Q24          4184.0    3.337237     1.426095   0.0    2.0    3.0    5.00   \n",
       "Q25          4184.0    1.999761     1.290747   0.0    1.0    1.0    3.00   \n",
       "Q26          4184.0    3.001434     1.480610   0.0    2.0    3.0    4.00   \n",
       "Q27          4184.0    2.730641     1.485883   0.0    1.0    3.0    4.00   \n",
       "Q28          4184.0    2.624044     1.481709   0.0    1.0    3.0    4.00   \n",
       "Q29          4184.0    2.543738     1.611428   0.0    1.0    2.0    4.00   \n",
       "Q30          4184.0    2.894359     1.477968   0.0    1.0    3.0    4.00   \n",
       "Q31          4184.0    3.002151     1.420032   0.0    2.0    3.0    4.00   \n",
       "Q32          4184.0    2.869503     1.659141   0.0    1.0    3.0    5.00   \n",
       "Q33          4184.0    2.741874     1.405670   0.0    1.0    3.0    4.00   \n",
       "Q34          4184.0    3.022228     1.562694   0.0    1.0    3.0    4.00   \n",
       "Q35          4184.0    3.074092     1.546400   0.0    1.0    3.0    5.00   \n",
       "Q36          4184.0    2.610660     1.409707   0.0    1.0    2.0    4.00   \n",
       "Q37          4184.0    3.465344     1.521460   0.0    2.0    4.0    5.00   \n",
       "Q38          4184.0    2.798757     1.413584   0.0    1.0    3.0    4.00   \n",
       "Q39          4184.0    2.569312     1.621772   0.0    1.0    2.0    4.00   \n",
       "Q40          4184.0    2.984226     1.483752   0.0    2.0    3.0    4.00   \n",
       "Q41          4184.0    3.385277     1.423055   0.0    2.0    4.0    5.00   \n",
       "Q42          4184.0    2.704828     1.544345   0.0    1.0    3.0    4.00   \n",
       "Q43          4184.0    2.676386     1.523097   0.0    1.0    3.0    4.00   \n",
       "Q44          4184.0    2.736616     1.471845   0.0    1.0    3.0    4.00   \n",
       "introelapse  4184.0  347.808556  5908.901681   1.0    6.0   12.0   35.00   \n",
       "testelapse   4184.0  479.994503  3142.178542   7.0  186.0  242.0  324.25   \n",
       "fromgoogle   4184.0    1.576243     0.494212   1.0    1.0    2.0    2.00   \n",
       "engnat       4184.0    1.239962     0.440882   0.0    1.0    1.0    1.00   \n",
       "age          4184.0   30.370698   367.201726  13.0   18.0   21.0   27.00   \n",
       "education    4184.0    2.317878     0.874264   0.0    2.0    2.0    3.00   \n",
       "gender       4184.0    1.654398     0.640915   0.0    1.0    2.0    2.00   \n",
       "orientation  4184.0    1.833413     1.303454   0.0    1.0    1.0    2.00   \n",
       "race         4184.0    5.013623     1.970996   0.0    5.0    6.0    6.00   \n",
       "religion     4184.0    2.394359     2.184164   0.0    1.0    2.0    2.00   \n",
       "hand         4184.0    1.190966     0.495357   0.0    1.0    1.0    1.00   \n",
       "\n",
       "                  max  \n",
       "Q1                5.0  \n",
       "Q2                5.0  \n",
       "Q3                5.0  \n",
       "Q4                5.0  \n",
       "Q5                5.0  \n",
       "Q6                5.0  \n",
       "Q7                5.0  \n",
       "Q8                5.0  \n",
       "Q9                5.0  \n",
       "Q10               5.0  \n",
       "Q11               5.0  \n",
       "Q12               5.0  \n",
       "Q13               5.0  \n",
       "Q14               5.0  \n",
       "Q15               5.0  \n",
       "Q16               5.0  \n",
       "Q17               5.0  \n",
       "Q18               5.0  \n",
       "Q19               5.0  \n",
       "Q20               5.0  \n",
       "Q21               5.0  \n",
       "Q22               5.0  \n",
       "Q23               5.0  \n",
       "Q24               5.0  \n",
       "Q25               5.0  \n",
       "Q26               5.0  \n",
       "Q27               5.0  \n",
       "Q28               5.0  \n",
       "Q29               5.0  \n",
       "Q30               5.0  \n",
       "Q31               5.0  \n",
       "Q32               5.0  \n",
       "Q33               5.0  \n",
       "Q34               5.0  \n",
       "Q35               5.0  \n",
       "Q36               5.0  \n",
       "Q37               5.0  \n",
       "Q38               5.0  \n",
       "Q39               5.0  \n",
       "Q40               5.0  \n",
       "Q41               5.0  \n",
       "Q42               5.0  \n",
       "Q43               5.0  \n",
       "Q44               5.0  \n",
       "introelapse  252063.0  \n",
       "testelapse   119834.0  \n",
       "fromgoogle        2.0  \n",
       "engnat            2.0  \n",
       "age           23763.0  \n",
       "education         4.0  \n",
       "gender            3.0  \n",
       "orientation       5.0  \n",
       "race              7.0  \n",
       "religion          7.0  \n",
       "hand              3.0  "
      ]
     },
     "execution_count": 4,
     "metadata": {},
     "output_type": "execute_result"
    }
   ],
   "source": [
    "df.describe().T"
   ]
  },
  {
   "cell_type": "markdown",
   "metadata": {},
   "source": [
    "Majority of the columns should have 1 as the min value for it to be a valid response. This means that there are some invalid responses in Q1-Q44, engnat, education, gender, orientation, race, religion and hand."
   ]
  },
  {
   "cell_type": "markdown",
   "metadata": {},
   "source": [
    "---\n",
    "## Step 4: Model the data.\n",
    "\n",
    "### 5. Suppose I wanted to use Q1 - Q44 to predict whether or not the person is left-handed. Would this be a classification or regression problem? Why?"
   ]
  },
  {
   "cell_type": "markdown",
   "metadata": {},
   "source": [
    "Answer: Classification. The output of the model would be categorical - 'Left-handed'/2 or 'Right-handed'/1"
   ]
  },
  {
   "cell_type": "markdown",
   "metadata": {},
   "source": [
    "### 6. We want to use $k$-nearest neighbors to predict whether or not a person is left-handed based on their responses to Q1 - Q44. Before doing that, however, you remember that it is often a good idea to standardize your variables. In general, why would we standardize our variables? Give an example of when we would standardize our variables."
   ]
  },
  {
   "cell_type": "markdown",
   "metadata": {},
   "source": [
    "Answer: We standardise our variables when the scales for different variables varies greatly. Standardisation will make all variables contribution equally. For e.g. we would need to standardise our variables if we have 2 variables in different scales - income (in the thousands) and age (in the tens)."
   ]
  },
  {
   "cell_type": "markdown",
   "metadata": {},
   "source": [
    "### 7. Give an example of when we might not standardize our variables."
   ]
  },
  {
   "cell_type": "markdown",
   "metadata": {},
   "source": [
    "Answer: This case is such an example. Our variables (Q1-Q44) are of the same scale (0-5). "
   ]
  },
  {
   "cell_type": "markdown",
   "metadata": {},
   "source": [
    "### 8. Based on your answers to 6 and 7, do you think we should standardize our predictor variables in this case? Why or why not?"
   ]
  },
  {
   "cell_type": "markdown",
   "metadata": {},
   "source": [
    "Answer: No. Q1-Q44 have the same scale."
   ]
  },
  {
   "cell_type": "markdown",
   "metadata": {},
   "source": [
    "### 9. We want to use $k$-nearest neighbors to predict whether or not a person is left-handed. What munging/cleaning do we need to do to our $y$ variable in order to explicitly answer this question? Do it."
   ]
  },
  {
   "cell_type": "markdown",
   "metadata": {},
   "source": [
    "Answer: Remove responses that are neither left nor right handed"
   ]
  },
  {
   "cell_type": "code",
   "execution_count": 5,
   "metadata": {},
   "outputs": [
    {
     "data": {
      "text/plain": [
       "1    3542\n",
       "2     452\n",
       "Name: hand, dtype: int64"
      ]
     },
     "execution_count": 5,
     "metadata": {},
     "output_type": "execute_result"
    }
   ],
   "source": [
    "y = df[df['hand'].isin([1,2])]['hand']\n",
    "y.value_counts()"
   ]
  },
  {
   "cell_type": "markdown",
   "metadata": {},
   "source": [
    "### 10. The professor for whom you work suggests that you set $k = 4$. In this specific case, why might this be a bad idea?"
   ]
  },
  {
   "cell_type": "markdown",
   "metadata": {},
   "source": [
    "Answer: There are some people who are ambidexterous. If we have an equal number, it would be difficult to determine if he/she is left or right handed."
   ]
  },
  {
   "cell_type": "markdown",
   "metadata": {},
   "source": [
    "### 11. Let's *(finally)* use $k$-nearest neighbors to predict whether or not a person is left-handed!\n",
    "\n",
    "> Be sure to create a train/test split with your data!\n",
    "\n",
    "> Create four separate models, one with $k = 3$, one with $k = 5$, one with $k = 15$, and one with $k = 25$.\n",
    "\n",
    "> Instantiate and fit your models."
   ]
  },
  {
   "cell_type": "code",
   "execution_count": 6,
   "metadata": {},
   "outputs": [
    {
     "data": {
      "text/plain": [
       "Index(['Q1', 'Q2', 'Q3', 'Q4', 'Q5', 'Q6', 'Q7', 'Q8', 'Q9', 'Q10', 'Q11',\n",
       "       'Q12', 'Q13', 'Q14', 'Q15', 'Q16', 'Q17', 'Q18', 'Q19', 'Q20', 'Q21',\n",
       "       'Q22', 'Q23', 'Q24', 'Q25', 'Q26', 'Q27', 'Q28', 'Q29', 'Q30', 'Q31',\n",
       "       'Q32', 'Q33', 'Q34', 'Q35', 'Q36', 'Q37', 'Q38', 'Q39', 'Q40', 'Q41',\n",
       "       'Q42', 'Q43', 'Q44', 'introelapse', 'testelapse', 'country',\n",
       "       'fromgoogle', 'engnat', 'age', 'education', 'gender', 'orientation',\n",
       "       'race', 'religion', 'hand'],\n",
       "      dtype='object')"
      ]
     },
     "execution_count": 6,
     "metadata": {},
     "output_type": "execute_result"
    }
   ],
   "source": [
    "df.columns"
   ]
  },
  {
   "cell_type": "code",
   "execution_count": 7,
   "metadata": {},
   "outputs": [],
   "source": [
    "x = df[df['hand'].isin([1,2])]"
   ]
  },
  {
   "cell_type": "code",
   "execution_count": 8,
   "metadata": {},
   "outputs": [],
   "source": [
    "x = x.drop(columns = ['introelapse', 'testelapse', 'country',\n",
    "       'fromgoogle', 'engnat', 'age', 'education', 'gender', 'orientation',\n",
    "       'race', 'religion', 'hand'])"
   ]
  },
  {
   "cell_type": "code",
   "execution_count": 9,
   "metadata": {},
   "outputs": [],
   "source": [
    "X_train,X_test,y_train,y_test = train_test_split(x,y,test_size=0.2,random_state=42)"
   ]
  },
  {
   "cell_type": "code",
   "execution_count": 10,
   "metadata": {},
   "outputs": [
    {
     "name": "stdout",
     "output_type": "stream",
     "text": [
      "k=3:\n",
      "Train score:  0.90266\n",
      "Test score:  0.84481 \n",
      "\n",
      "k=5:\n",
      "Train score:  0.89171\n",
      "Test score:  0.86483 \n",
      "\n",
      "k=15:\n",
      "Train score:  0.88638\n",
      "Test score:  0.88736 \n",
      "\n",
      "k=25:\n",
      "Train score:  0.88638\n",
      "Test score:  0.88861 \n",
      "\n"
     ]
    }
   ],
   "source": [
    "k = [3,5,15,25]\n",
    "for i in k: \n",
    "    print ('k=' + str(i) + ':')\n",
    "    knn = KNeighborsClassifier(n_neighbors = i)\n",
    "    knn.fit(X_train,y_train)\n",
    "    print('Train score: ', round(knn.score(X_train,y_train),5))\n",
    "    print('Test score: ', round(knn.score(X_test,y_test),5), '\\n')"
   ]
  },
  {
   "cell_type": "markdown",
   "metadata": {},
   "source": [
    "Being good data scientists, we know that we might not run just one type of model. We might run many different models and see which is best.\n",
    "\n",
    "### 12. We want to use logistic regression to predict whether or not a person is left-handed. Before we do that, let's check the [documentation for logistic regression in sklearn](http://scikit-learn.org/stable/modules/generated/sklearn.linear_model.LogisticRegression.html). Is there default regularization? If so, what is it? If not, how do you know?"
   ]
  },
  {
   "cell_type": "markdown",
   "metadata": {},
   "source": [
    "Answer: L2 penalty term (Ridge regularisation) is applied by default"
   ]
  },
  {
   "cell_type": "markdown",
   "metadata": {},
   "source": [
    "### 13. We want to use logistic regression to predict whether or not a person is left-handed. Before we do that, should we standardize our features?"
   ]
  },
  {
   "cell_type": "markdown",
   "metadata": {},
   "source": [
    "Answer: No, the features are of the same scale"
   ]
  },
  {
   "cell_type": "markdown",
   "metadata": {},
   "source": [
    "### 14. Let's use logistic regression to predict whether or not the person is left-handed.\n",
    "\n",
    "\n",
    "> Be sure to use the same train/test split with your data as with your $k$-NN model above!\n",
    "\n",
    "> Create four separate models, one with LASSO and $\\alpha = 1$, one with LASSO and $\\alpha = 10$, one with Ridge and $\\alpha = 1$, and one with Ridge and $\\alpha = 10$. *(Hint: Be careful with how you specify $\\alpha$ in your model!)*\n",
    "\n",
    "> Instantiate and fit your models."
   ]
  },
  {
   "cell_type": "code",
   "execution_count": 11,
   "metadata": {},
   "outputs": [
    {
     "name": "stdout",
     "output_type": "stream",
     "text": [
      "LASSO, alpha=1.0:\n",
      "Train score:  0.88638\n",
      "Test score:  0.88861 \n",
      "\n",
      "Ridge, alpha=1.0:\n",
      "Train score:  0.88638\n",
      "Test score:  0.88861 \n",
      "\n",
      "LASSO, alpha=10.0:\n",
      "Train score:  0.88638\n",
      "Test score:  0.88986 \n",
      "\n",
      "Ridge, alpha=10.0:\n",
      "Train score:  0.88638\n",
      "Test score:  0.88986 \n",
      "\n"
     ]
    }
   ],
   "source": [
    "c = [1,1/10]\n",
    "penalty = ['l1','l2']\n",
    "for i in c:\n",
    "    for j in penalty: \n",
    "        if j == 'l1': \n",
    "            print ('LASSO, alpha=' + str(1/i) + ':')\n",
    "        else: \n",
    "            print ('Ridge, alpha=' + str(1/i) + ':')\n",
    "        lr = LogisticRegression(penalty = j, C = i, solver = 'liblinear')\n",
    "        lr.fit(X_train,y_train)\n",
    "        print('Train score: ', round(lr.score(X_train,y_train),5))\n",
    "        print('Test score: ', round(lr.score(X_test,y_test),5), '\\n')"
   ]
  },
  {
   "cell_type": "markdown",
   "metadata": {},
   "source": [
    "---\n",
    "## Step 5: Evaluate the model(s).\n",
    "\n",
    "### 15. Before calculating any score on your data, take a step back. Think about your $X$ variable and your $Y$ variable. Do you think your $X$ variables will do a good job of predicting your $Y$ variable? Why or why not? What impact do you think this will have on your scores?"
   ]
  },
  {
   "cell_type": "markdown",
   "metadata": {},
   "source": [
    "Answer: No. Everyone has a different opinion on what a scale of 1 to 5 mean for each question."
   ]
  },
  {
   "cell_type": "markdown",
   "metadata": {},
   "source": [
    "### 16. Using accuracy as your metric, evaluate all eight of your models on both the training and testing sets. Put your scores below. (If you want to be fancy and generate a table in Markdown, there's a [Markdown table generator site linked here](https://www.tablesgenerator.com/markdown_tables#).)\n",
    "- Note: Your answers here might look a little weird. You didn't do anything wrong; that's to be expected!"
   ]
  },
  {
   "cell_type": "markdown",
   "metadata": {},
   "source": [
    "Answer: \n",
    "    \n",
    "k=3 - \n",
    "Train score:  0.90266\n",
    "Test score:  0.84481 \n",
    "\n",
    "k=5 -\n",
    "Train score:  0.89171\n",
    "Test score:  0.86483 \n",
    "\n",
    "k=15 -\n",
    "Train score:  0.88638\n",
    "Test score:  0.88736 \n",
    "\n",
    "k=25 -\n",
    "Train score:  0.88638\n",
    "Test score:  0.88861 \n",
    "    \n",
    "LASSO, alpha=1.0 -\n",
    "Train score:  0.88638\n",
    "Test score:  0.88861 \n",
    "\n",
    "Ridge, alpha=1.0 -\n",
    "Train score:  0.88638\n",
    "Test score:  0.88861 \n",
    "\n",
    "LASSO, alpha=10.0 -\n",
    "Train score:  0.88638\n",
    "Test score:  0.88986 \n",
    "\n",
    "Ridge, alpha=10.0 -\n",
    "Train score:  0.88638\n",
    "Test score:  0.88986     "
   ]
  },
  {
   "cell_type": "markdown",
   "metadata": {},
   "source": [
    "### 17. In which of your $k$-NN models is there evidence of overfitting? How do you know?"
   ]
  },
  {
   "cell_type": "markdown",
   "metadata": {},
   "source": [
    "Answer: k = 3 and 5. Train score is more than Test score"
   ]
  },
  {
   "cell_type": "markdown",
   "metadata": {},
   "source": [
    "### 18. Broadly speaking, how does the value of $k$ in $k$-NN affect the bias-variance tradeoff? (i.e. As $k$ increases, how are bias and variance affected?)"
   ]
  },
  {
   "cell_type": "markdown",
   "metadata": {},
   "source": [
    "Answer: As k increases, bias increases and variance decreases"
   ]
  },
  {
   "cell_type": "markdown",
   "metadata": {},
   "source": [
    "### 19. If you have a $k$-NN model that has evidence of overfitting, what are three things you might try to do to combat overfitting?"
   ]
  },
  {
   "cell_type": "markdown",
   "metadata": {},
   "source": [
    "Answer:\n",
    "1. Increase k \n",
    "2. Get more data (in terms of rows) \n",
    "3. Reduce model complexity by removing irrelavant features"
   ]
  },
  {
   "cell_type": "markdown",
   "metadata": {},
   "source": [
    "### 20. In which of your logistic regression models is there evidence of overfitting? How do you know?"
   ]
  },
  {
   "cell_type": "markdown",
   "metadata": {},
   "source": [
    "Answer: None. The train and test scores are similar"
   ]
  },
  {
   "cell_type": "markdown",
   "metadata": {},
   "source": [
    "### 21. Broadly speaking, how does the value of $C$ in logistic regression affect the bias-variance tradeoff? (i.e. As $C$ increases, how are bias and variance affected?)"
   ]
  },
  {
   "cell_type": "markdown",
   "metadata": {},
   "source": [
    "Answer: As C increases, bias decreases and variance increases"
   ]
  },
  {
   "cell_type": "markdown",
   "metadata": {},
   "source": [
    "### 22. For your logistic regression models, play around with the regularization hyperparameter, $C$. As you vary $C$, what happens to the fit and coefficients in the model? What do you think this means in the context of this specific problem?"
   ]
  },
  {
   "cell_type": "markdown",
   "metadata": {},
   "source": [
    "Answer: Scores and coefficients are not affected much. "
   ]
  },
  {
   "cell_type": "markdown",
   "metadata": {},
   "source": [
    "### 23. If you have a logistic regression model that has evidence of overfitting, what are three things you might try to do to combat overfitting?"
   ]
  },
  {
   "cell_type": "markdown",
   "metadata": {},
   "source": [
    "Answer:\n",
    "\n",
    "1. Reduce C (increase regularisation strength)\n",
    "2. Get more data (in terms of rows) \n",
    "3. Reduce model complexity by removing irrelavant features"
   ]
  },
  {
   "cell_type": "markdown",
   "metadata": {},
   "source": [
    "---\n",
    "## Step 6: Answer the problem.\n",
    "\n",
    "### 24. Suppose you want to understand which psychological features are most important in determining left-handedness. Would you rather use $k$-NN or logistic regression? Why?"
   ]
  },
  {
   "cell_type": "markdown",
   "metadata": {},
   "source": [
    "Answer: Logistic Regression. The coefficients allow us to determine the importance"
   ]
  },
  {
   "cell_type": "markdown",
   "metadata": {},
   "source": [
    "### 25. Select your logistic regression model that utilized LASSO regularization with $\\alpha = 1$. Interpret the coefficient for `Q1`."
   ]
  },
  {
   "cell_type": "code",
   "execution_count": 12,
   "metadata": {},
   "outputs": [
    {
     "data": {
      "text/plain": [
       "array([[-0.01179536, -0.03940118, -0.01247924, -0.08905016,  0.04776221,\n",
       "         0.01711782,  0.03336763, -0.13579756, -0.07455161,  0.08551908,\n",
       "         0.02712159, -0.03547005, -0.02670564,  0.0191807 , -0.00516023,\n",
       "         0.02313761,  0.02839055,  0.00929114, -0.04720512, -0.03467391,\n",
       "        -0.06205486, -0.09674804, -0.05485878,  0.00235589,  0.06399587,\n",
       "         0.10042934,  0.01881793,  0.01170107,  0.06649328,  0.04350763,\n",
       "         0.02632677, -0.04751038, -0.03045617, -0.02390211,  0.02160716,\n",
       "         0.        , -0.02645912,  0.0852944 , -0.07772408, -0.06854754,\n",
       "        -0.04937054, -0.04363031, -0.10630035,  0.00423631]])"
      ]
     },
     "execution_count": 12,
     "metadata": {},
     "output_type": "execute_result"
    }
   ],
   "source": [
    "lr = LogisticRegression(penalty = 'l1', C = 1, solver = 'liblinear')\n",
    "lr.fit(X_train,y_train)\n",
    "lr.coef_"
   ]
  },
  {
   "cell_type": "markdown",
   "metadata": {},
   "source": [
    "Answer: For e.g. when the score of Q1 increases by 1, it means that left-handedness is e-0.01186463 = 0.988 times as likely"
   ]
  },
  {
   "cell_type": "markdown",
   "metadata": {},
   "source": [
    "### 26. If you have to select one model overall to be your *best* model, which model would you select? Why?\n",
    "- Usually in the \"real world,\" you'll fit many types of models but ultimately need to pick only one! (For example, a client may not understand what it means to have multiple models, or if you're using an algorithm to make a decision, it's probably pretty challenging to use two or more algorithms simultaneously.) It's not always an easy choice, but you'll have to make it soon enough. Pick a model and defend why you picked this model!"
   ]
  },
  {
   "cell_type": "markdown",
   "metadata": {},
   "source": [
    "Answer: Logistic Regression. It has a similar train and test score and runs faster than KNN"
   ]
  },
  {
   "cell_type": "markdown",
   "metadata": {},
   "source": [
    "### 27. Circle back to the three specific and conclusively answerable questions you came up with in Q1. Answer one of these for the professor based on the model you selected!"
   ]
  },
  {
   "cell_type": "markdown",
   "metadata": {},
   "source": [
    "1. Are left-handed people more likely to play video games compared to right-handed people? (Q37)\n",
    "2. Are left-handed people more likely to like horoscope compared to right-handed people?\n",
    "3. Are left-handed people more likely to dance when they are alone compared to right-handed people?"
   ]
  },
  {
   "cell_type": "code",
   "execution_count": 17,
   "metadata": {},
   "outputs": [
    {
     "data": {
      "text/plain": [
       "-0.026459116361322"
      ]
     },
     "execution_count": 17,
     "metadata": {},
     "output_type": "execute_result"
    }
   ],
   "source": [
    "lr.coef_[0][36]"
   ]
  },
  {
   "cell_type": "code",
   "execution_count": 20,
   "metadata": {},
   "outputs": [
    {
     "data": {
      "text/plain": [
       "0.9738878591009774"
      ]
     },
     "execution_count": 20,
     "metadata": {},
     "output_type": "execute_result"
    }
   ],
   "source": [
    "np.exp(lr.coef_[0][36])"
   ]
  },
  {
   "cell_type": "markdown",
   "metadata": {},
   "source": [
    "Answer: Left-handed people are more likely to play video games compared to right-handed people"
   ]
  },
  {
   "cell_type": "markdown",
   "metadata": {},
   "source": [
    "### BONUS:\n",
    "Looking for more to do? Probably not - you're busy! But if you want to, consider exploring the following. (They could make for a blog post!)\n",
    "- Create a visual plot comparing training and test metrics for various values of $k$ and various regularization schemes in logistic regression.\n",
    "- Rather than just evaluating models based on accuracy, consider using sensitivity, specificity, etc.\n",
    "- In the context of predicting left-handedness, why are unbalanced classes concerning? If you were to re-do this process given those concerns, what changes might you make?\n",
    "- Fit and evaluate a generalized linear model other than logistic regression (e.g. Poisson regression).\n",
    "- Suppose this data were in a `SQL` database named `data` and a table named `inventory`. What `SQL` query would return the count of people who were right-handed, left-handed, both, or missing with their class labels of 1, 2, 3, and 0, respectively? (You can assume you've already logged into the database.)"
   ]
  },
  {
   "cell_type": "code",
   "execution_count": null,
   "metadata": {},
   "outputs": [],
   "source": []
  }
 ],
 "metadata": {
  "kernelspec": {
   "display_name": "Python 3 (ipykernel)",
   "language": "python",
   "name": "python3"
  },
  "language_info": {
   "codemirror_mode": {
    "name": "ipython",
    "version": 3
   },
   "file_extension": ".py",
   "mimetype": "text/x-python",
   "name": "python",
   "nbconvert_exporter": "python",
   "pygments_lexer": "ipython3",
   "version": "3.9.7"
  }
 },
 "nbformat": 4,
 "nbformat_minor": 2
}
